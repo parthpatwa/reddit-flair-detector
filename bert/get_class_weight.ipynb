{
 "cells": [
  {
   "cell_type": "code",
   "execution_count": 1,
   "metadata": {},
   "outputs": [
    {
     "name": "stdout",
     "output_type": "stream",
     "text": [
      "[0.93166667 0.93166667 0.93166667 0.93166667 0.93166667 0.93166667\n",
      " 0.93166667 0.93166667 0.93166667 0.93166667 0.93166667 5.17592593]\n",
      "['AMA' 'AskIndia' 'Business/Finance' 'Food' 'Non-Political' 'Photography'\n",
      " 'Policy/Economy' 'Politics' 'Scheduled' 'Science/Technology' 'Sports'\n",
      " '[R]eddiquette']\n"
     ]
    }
   ],
   "source": [
    "from sklearn.utils.class_weight import compute_class_weight\n",
    "import pandas as pd\n",
    "import numpy as np\n",
    "\n",
    "df = pd.read_csv(\"../reddit-india-data.csv\", sep=',', encoding='utf-8')\n",
    "y_train = []\n",
    "for idx, row in df.iterrows():\n",
    "    y_train.append(row['flair'])\n",
    "\n",
    "\n",
    "class_weights = compute_class_weight('balanced',\n",
    "                                    np.unique(y_train),\n",
    "                                    y_train)\n",
    "\n",
    "print(class_weights)\n",
    "print(np.unique(y_train))\n",
    "# print(y_train)"
   ]
  },
  {
   "cell_type": "code",
   "execution_count": null,
   "metadata": {},
   "outputs": [],
   "source": []
  }
 ],
 "metadata": {
  "kernelspec": {
   "display_name": "Python 3",
   "language": "python",
   "name": "python3"
  },
  "language_info": {
   "codemirror_mode": {
    "name": "ipython",
    "version": 3
   },
   "file_extension": ".py",
   "mimetype": "text/x-python",
   "name": "python",
   "nbconvert_exporter": "python",
   "pygments_lexer": "ipython3",
   "version": "3.6.10"
  }
 },
 "nbformat": 4,
 "nbformat_minor": 4
}
